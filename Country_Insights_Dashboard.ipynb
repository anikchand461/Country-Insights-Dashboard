{
  "nbformat": 4,
  "nbformat_minor": 0,
  "metadata": {
    "colab": {
      "private_outputs": true,
      "provenance": []
    },
    "kernelspec": {
      "name": "python3",
      "display_name": "Python 3"
    },
    "language_info": {
      "name": "python"
    }
  },
  "cells": [
    {
      "cell_type": "code",
      "execution_count": null,
      "metadata": {
        "id": "_mY7V_9-qcHH"
      },
      "outputs": [],
      "source": [
        "!pip install pandas numpy requests beautifulsoup4 matplotlib seaborn scikit-learn"
      ]
    },
    {
      "cell_type": "code",
      "source": [
        "!pip install kaggle"
      ],
      "metadata": {
        "id": "hdtYp2Giq66N"
      },
      "execution_count": null,
      "outputs": []
    },
    {
      "cell_type": "code",
      "source": [
        "import matplotlib.pyplot as plt\n",
        "import seaborn as sns\n",
        "import numpy as np\n",
        "import pandas as pd"
      ],
      "metadata": {
        "id": "mysrlaBuC99d"
      },
      "execution_count": null,
      "outputs": []
    },
    {
      "cell_type": "code",
      "source": [
        "import kagglehub\n",
        "\n",
        "# Download latest version\n",
        "path = kagglehub.dataset_download(\"nelgiriyewithana/countries-of-the-world-2023\")\n",
        "\n",
        "print(\"Path to dataset files:\", path)"
      ],
      "metadata": {
        "id": "Bjb4wlW4tr5H"
      },
      "execution_count": null,
      "outputs": []
    },
    {
      "cell_type": "code",
      "source": [
        "import pandas as pd\n",
        "import os\n",
        "\n",
        "# define the path\n",
        "dspath = \"/root/.cache/kagglehub/datasets/nelgiriyewithana/countries-of-the-world-2023/versions/1\"\n",
        "\n",
        "#list file to check the correct csv file name\n",
        "os.listdir(dspath)\n",
        "\n",
        "# load the dataset\n",
        "df = pd.read_csv(os.path.join(dspath,'world-data-2023.csv'))\n",
        "\n",
        "# display the first 5 rows\n",
        "df.head()"
      ],
      "metadata": {
        "id": "b2sgTNvxyYee"
      },
      "execution_count": null,
      "outputs": []
    },
    {
      "cell_type": "code",
      "source": [
        "df.columns"
      ],
      "metadata": {
        "id": "SlnMOEtwyvuB"
      },
      "execution_count": null,
      "outputs": []
    },
    {
      "cell_type": "code",
      "source": [
        "# extract the meaningful features\n",
        "\n",
        "# country - name of country to identify\n",
        "# population - helps to compare country size and population\n",
        "# GDP - Gross Domestic Product (total value of goods/services) - measures economic strength\n",
        "# Life expectancy - Average lifespan of people in the country - Indicates health & living conditions\n",
        "# Birth Rate - Number of births per 1,000 people per year - Shows population growth trends\n",
        "# Infant mortality - Number of infant deaths per 1,000 live births - Indicates healthcare quality\n",
        "# Unemployment rate - Percentage of people unemployed in the labor force - Measures job availability & economic stability\n",
        "# Tax revenue (%) - Percentage of GDP collected as tax revenue - Shows government income & economic policies\n",
        "# Urban_population - Percentage of people living in urban areas - Helps analyze rural vs urban population\n",
        "# Latitude, Longitude - useful for location based visualizations or for mapping data\n",
        "\n",
        "\n",
        "columns_to_keep = [\n",
        "    \"Country\", \"Population\", \"GDP\", \"Life expectancy\", \"Birth Rate\", \"Infant mortality\",\n",
        "    \"Unemployment rate\", \"Tax revenue (%)\", \"Urban_population\", \"Latitude\", \"Longitude\"\n",
        "]\n",
        "\n",
        "df = df[columns_to_keep]\n",
        "df"
      ],
      "metadata": {
        "id": "uhlvmvtt1Qw_"
      },
      "execution_count": null,
      "outputs": []
    },
    {
      "cell_type": "code",
      "source": [
        "df.info()"
      ],
      "metadata": {
        "id": "-q5TdRnP3a1v"
      },
      "execution_count": null,
      "outputs": []
    },
    {
      "cell_type": "code",
      "source": [],
      "metadata": {
        "id": "I28wT6O3MCeb"
      },
      "execution_count": null,
      "outputs": []
    },
    {
      "cell_type": "code",
      "source": [
        "df['Population'] = df[\"Population\"].astype(str)\n",
        "df[\"Population\"] = df[\"Population\"].str.replace(\",\", \"\").str.strip()  # Remove commas and spaces"
      ],
      "metadata": {
        "id": "TeB91W48Mzbz"
      },
      "execution_count": null,
      "outputs": []
    },
    {
      "cell_type": "code",
      "source": [
        "df.isnull().sum()"
      ],
      "metadata": {
        "id": "lYFVxblwONXD"
      },
      "execution_count": null,
      "outputs": []
    },
    {
      "cell_type": "code",
      "source": [
        "df.info()"
      ],
      "metadata": {
        "id": "WjnXIMvCQybv"
      },
      "execution_count": null,
      "outputs": []
    },
    {
      "cell_type": "code",
      "source": [
        "df[\"Population\"] = pd.to_numeric(df[\"Population\"], errors=\"coerce\")"
      ],
      "metadata": {
        "id": "ymi_UhRGRb15"
      },
      "execution_count": null,
      "outputs": []
    },
    {
      "cell_type": "code",
      "source": [
        "df"
      ],
      "metadata": {
        "id": "pT-b3ppMRlpX"
      },
      "execution_count": null,
      "outputs": []
    },
    {
      "cell_type": "code",
      "source": [
        "df['GDP'] = df['GDP'].astype(str)\n",
        "df['GDP'] = df['GDP'].str.replace(\"$\", \"\").str.strip()\n",
        "df['GDP'] = df['GDP'].str.replace(\",\", \"\").str.strip()\n",
        "df['GDP'] = pd.to_numeric(df['GDP'], errors = 'coerce')"
      ],
      "metadata": {
        "id": "5FTswlg4SWao"
      },
      "execution_count": null,
      "outputs": []
    },
    {
      "cell_type": "code",
      "source": [
        "df.info()"
      ],
      "metadata": {
        "id": "E7dk3PNdSr4x"
      },
      "execution_count": null,
      "outputs": []
    },
    {
      "cell_type": "code",
      "source": [
        "df['Unemployment rate'] = df['Unemployment rate'].astype(str)\n",
        "df['Unemployment rate'] = df['Unemployment rate'].str.replace(\"%\", \"\").str.strip()\n",
        "df['Unemployment rate'] = pd.to_numeric(df['Unemployment rate'], errors = 'coerce')"
      ],
      "metadata": {
        "id": "i4hYouqdSuF8"
      },
      "execution_count": null,
      "outputs": []
    },
    {
      "cell_type": "code",
      "source": [
        "df['Tax revenue (%)'] = df['Tax revenue (%)'].astype(str)\n",
        "df['Tax revenue (%)'] = df['Tax revenue (%)'].str.replace(\"%\", \"\").str.strip()\n",
        "df['Tax revenue (%)'] = pd.to_numeric(df['Tax revenue (%)'], errors = 'coerce')"
      ],
      "metadata": {
        "id": "6JSWWOVHT06p"
      },
      "execution_count": null,
      "outputs": []
    },
    {
      "cell_type": "code",
      "source": [
        "df"
      ],
      "metadata": {
        "id": "MpcXYh82Wsyk"
      },
      "execution_count": null,
      "outputs": []
    },
    {
      "cell_type": "code",
      "source": [
        "df['Urban_population'] = df['Urban_population'].astype(str)\n",
        "df['Urban_population'] = df['Urban_population'].str.replace(\",\", \"\").str.strip()\n",
        "df['Urban_population'] = pd.to_numeric(df['Urban_population'], errors = 'coerce')"
      ],
      "metadata": {
        "id": "hi7K_NnuYAQN"
      },
      "execution_count": null,
      "outputs": []
    },
    {
      "cell_type": "code",
      "source": [
        "df.info()"
      ],
      "metadata": {
        "id": "NWoEm8KVw1mR"
      },
      "execution_count": null,
      "outputs": []
    },
    {
      "cell_type": "code",
      "source": [
        "df.isnull().sum()"
      ],
      "metadata": {
        "id": "t9uWAuJIyEKa"
      },
      "execution_count": null,
      "outputs": []
    },
    {
      "cell_type": "code",
      "source": [
        "df[df.isnull().any(axis=1)]"
      ],
      "metadata": {
        "id": "UKBkD7opySDN"
      },
      "execution_count": null,
      "outputs": []
    },
    {
      "cell_type": "code",
      "source": [
        "df['Population'] = df['Population'].fillna(df['Population'].mean())"
      ],
      "metadata": {
        "id": "GAibvkvOSRxj"
      },
      "execution_count": null,
      "outputs": []
    },
    {
      "cell_type": "code",
      "source": [
        "df.loc[df['Country'] == 'Japan', 'Life expectancy']"
      ],
      "metadata": {
        "id": "6uCPmuyGVozu"
      },
      "execution_count": null,
      "outputs": []
    },
    {
      "cell_type": "code",
      "source": [
        "plt.figure(figsize=(50, 6))\n",
        "\n",
        "# Sorting DataFrame by Life Expectancy in ascending order\n",
        "df_sorted = df.sort_values(by='Life expectancy', ascending=True)\n",
        "\n",
        "# Plotting\n",
        "sns.barplot(x='Country', y='Life expectancy', data=df_sorted, palette='viridis')\n",
        "\n",
        "plt.xticks(rotation=90)\n",
        "plt.xlabel('Country')\n",
        "plt.ylabel('Life Expectancy')\n",
        "plt.title('Life Expectancy by Country (Sorted)')\n",
        "plt.show()"
      ],
      "metadata": {
        "id": "k3-NB-zxWjVL"
      },
      "execution_count": null,
      "outputs": []
    },
    {
      "cell_type": "code",
      "source": [
        "df = df.drop(index=150)  # Removes row with index 150\n",
        "df.reset_index(drop=True, inplace=True)  # Reset index after dropping the row"
      ],
      "metadata": {
        "id": "UUsiB0fKW7_l"
      },
      "execution_count": null,
      "outputs": []
    },
    {
      "cell_type": "code",
      "source": [
        "df['Unemployment rate'] = df['Unemployment rate'].fillna(df['Unemployment rate'].mean())\n",
        "df['GDP'] = df['GDP'].fillna(df['GDP'].mode())"
      ],
      "metadata": {
        "id": "2F3Ow75ik430"
      },
      "execution_count": null,
      "outputs": []
    },
    {
      "cell_type": "code",
      "source": [
        "\n",
        "df.isnull().sum()"
      ],
      "metadata": {
        "id": "z1Mbqz4UdetN"
      },
      "execution_count": null,
      "outputs": []
    },
    {
      "cell_type": "code",
      "source": [
        "df[df['Life expectancy'].isnull()]"
      ],
      "metadata": {
        "id": "6YyXhkp6lit6"
      },
      "execution_count": null,
      "outputs": []
    },
    {
      "cell_type": "code",
      "source": [
        "df.loc[3, 'Life expectancy'] = 83.5  # Works well for both single and multiple row assignments\n",
        "df.loc[56, 'Life expectancy'] = 58.9\n",
        "df.loc[73, 'Life expectancy'] = 84.16\n",
        "df.loc[113, 'Life expectancy'] = 83.5\n",
        "df.loc[120, 'Life expectancy'] = 60.6\n",
        "df.loc[128, 'Life expectancy'] = 75.7\n",
        "df.loc[133, 'Life expectancy'] = 73.44\n",
        "df.loc[179, 'Life expectancy'] = 66.9\n",
        "df.loc[180, 'Life expectancy'] = 66.9"
      ],
      "metadata": {
        "id": "LLqjUh2vdqOm"
      },
      "execution_count": null,
      "outputs": []
    },
    {
      "cell_type": "code",
      "source": [
        "df_sorted = df.sort_values(by='Birth Rate', ascending=True)\n",
        "plt.figure(figsize=(150, 6))\n",
        "sns.barplot(x='Country', y='Birth Rate', data=df_sorted, palette='viridis')\n",
        "plt.show()"
      ],
      "metadata": {
        "id": "hhqzd6hjoLSR"
      },
      "execution_count": null,
      "outputs": []
    },
    {
      "cell_type": "code",
      "source": [
        "df[df['Birth Rate'].isnull()]"
      ],
      "metadata": {
        "id": "B7HUsR1NNV-c"
      },
      "execution_count": null,
      "outputs": []
    },
    {
      "cell_type": "code",
      "source": [
        "df.loc[56, 'Birth Rate'] = 26.1\n",
        "df.loc[73, 'Birth Rate'] = 36.29\n",
        "df.loc[120, 'Birth Rate'] = 24.7\n",
        "df.loc[128, 'Birth Rate'] = 11.1\n",
        "df.loc[133, 'Birth Rate'] = 30.9\n",
        "df.loc[179, 'Birth Rate'] = 23.3\n",
        "df.loc[180, 'Birth Rate'] = 23.3"
      ],
      "metadata": {
        "id": "YTtjq6CTOjqO"
      },
      "execution_count": null,
      "outputs": []
    },
    {
      "cell_type": "code",
      "source": [
        "plt.figure(figsize = (50, 6))\n",
        "sns.barplot(x = 'Country', y = 'Infant mortality', data = df)\n",
        "plt.plot()"
      ],
      "metadata": {
        "id": "8U3cfQ0RIFGJ"
      },
      "execution_count": null,
      "outputs": []
    },
    {
      "cell_type": "code",
      "source": [
        "df[df['Infant mortality'].isnull()]"
      ],
      "metadata": {
        "id": "f4aAy6RqPsSy"
      },
      "execution_count": null,
      "outputs": []
    },
    {
      "cell_type": "code",
      "source": [
        "df.loc[56, 'Infant mortality'] = 36.7\n",
        "df.loc[73, 'Infant mortality'] = 517\n",
        "df.loc[98, 'Infant mortality'] = 3.9\n",
        "df.loc[120, 'Infant mortality'] = 7.6\n",
        "df.loc[128, 'Infant mortality'] = 9.22\n",
        "df.loc[133, 'Infant mortality'] = 12"
      ],
      "metadata": {
        "id": "1BuuY4JaH8T3"
      },
      "execution_count": null,
      "outputs": []
    },
    {
      "cell_type": "code",
      "source": [
        "df[df['Tax revenue (%)'].isnull()]"
      ],
      "metadata": {
        "id": "XTSThOioMAxA"
      },
      "execution_count": null,
      "outputs": []
    },
    {
      "cell_type": "code",
      "source": [
        "plt.figure(figsize = (50, 7))\n",
        "sns.barplot(x = 'Country', y = 'Tax revenue (%)', data = df)\n",
        "plt.show()"
      ],
      "metadata": {
        "id": "wMyJbbAzP2Ow"
      },
      "execution_count": null,
      "outputs": []
    },
    {
      "cell_type": "code",
      "source": [
        "df.loc[3, 'Tax revenue (%)'] = 10\n",
        "df.loc[24, 'Tax revenue (%)'] = 14\n",
        "df.loc[34, 'Tax revenue (%)'] = 10.7\n",
        "df.loc[38, 'Tax revenue (%)'] = 30\n",
        "df.loc[42, 'Tax revenue (%)'] = 40.4\n",
        "df.loc[47, 'Tax revenue (%)'] = 11\n",
        "df.loc[50, 'Tax revenue (%)'] = 4.36\n",
        "df.loc[54, 'Tax revenue (%)'] = 2\n",
        "df.loc[71, 'Tax revenue (%)'] = 32.2\n",
        "df.loc[72, 'Tax revenue (%)'] = 5.5\n",
        "df.loc[73, 'Tax revenue (%)'] = 0\n",
        "df.loc[97, 'Tax revenue (%)'] = 10\n",
        "df.loc[98, 'Tax revenue (%)'] = 20\n",
        "df.loc[108, 'Tax revenue (%)'] = 40\n",
        "df.loc[113, 'Tax revenue (%)'] = 1\n",
        "df.loc[115, 'Tax revenue (%)'] = 22.8\n",
        "df.loc[120, 'Tax revenue (%)'] = 29.2\n",
        "df.loc[127, 'Tax revenue (%)'] = 32\n",
        "df.loc[128, 'Tax revenue (%)'] = 15\n",
        "df.loc[133, 'Tax revenue (%)'] = 20\n",
        "df.loc[134, 'Tax revenue (%)'] = 15\n",
        "df.loc[162, 'Tax revenue (%)'] = 24.8\n",
        "df.loc[179, 'Tax revenue (%)'] = 11.45\n",
        "df.loc[180, 'Tax revenue (%)'] = 136.9\n",
        "df.loc[189, 'Tax revenue (%)'] = 34\n",
        "df.loc[191, 'Tax revenue (%)'] = 15"
      ],
      "metadata": {
        "id": "MataNyP4MWjb"
      },
      "execution_count": null,
      "outputs": []
    },
    {
      "cell_type": "code",
      "source": [
        "df[df['Urban_population'].isnull()]"
      ],
      "metadata": {
        "id": "Jf7ZME_X4y6w"
      },
      "execution_count": null,
      "outputs": []
    },
    {
      "cell_type": "code",
      "source": [
        "df.loc[73, 'Urban_population'] = 825\n",
        "df.loc[128, 'Urban_population'] = 1258951\n",
        "df.loc[133, 'Urban_population'] = 4707958"
      ],
      "metadata": {
        "id": "Q90U8Yk144Sy"
      },
      "execution_count": null,
      "outputs": []
    },
    {
      "cell_type": "code",
      "source": [
        "df.info()"
      ],
      "metadata": {
        "id": "-n2Xrc77Vkub"
      },
      "execution_count": null,
      "outputs": []
    },
    {
      "cell_type": "code",
      "source": [
        "df.describe()"
      ],
      "metadata": {
        "id": "t75uMdvLaiSw"
      },
      "execution_count": null,
      "outputs": []
    },
    {
      "cell_type": "code",
      "source": [
        "plt.figure(figsize=(10, 5))\n",
        "sns.boxplot(x = df[\"GDP\"])\n",
        "plt.show()"
      ],
      "metadata": {
        "id": "q_94V4ht8Hbm"
      },
      "execution_count": null,
      "outputs": []
    },
    {
      "cell_type": "code",
      "source": [
        "plt.figure(figsize=(10, 5))\n",
        "sns.violinplot(x = df[\"GDP\"])\n",
        "plt.show()"
      ],
      "metadata": {
        "id": "-GZ8CQcH8Qb_"
      },
      "execution_count": null,
      "outputs": []
    },
    {
      "cell_type": "code",
      "source": [
        "import numpy as np\n",
        "\n",
        "df[\"GDP_log\"] = np.log1p(df[\"GDP\"])\n",
        "plt.figure(figsize=(10, 5))\n",
        "sns.violinplot(x = df[\"GDP_log\"])\n",
        "plt.show()"
      ],
      "metadata": {
        "id": "OzhK92YWrLuG"
      },
      "execution_count": null,
      "outputs": []
    },
    {
      "cell_type": "code",
      "source": [
        "lower = df[\"GDP\"].quantile(0.05)\n",
        "upper = df[\"GDP\"].quantile(0.95)\n",
        "\n",
        "df = df[(df[\"GDP\"] >= lower) & (df[\"GDP\"] <= upper)]"
      ],
      "metadata": {
        "id": "9MreAO3ts5Qf"
      },
      "execution_count": null,
      "outputs": []
    },
    {
      "cell_type": "code",
      "source": [
        "df[\"GDP_log\"] = np.log1p(df[\"GDP\"])\n",
        "plt.figure(figsize=(10, 5))\n",
        "sns.violinplot(x = df[\"GDP_log\"])\n",
        "plt.show()"
      ],
      "metadata": {
        "id": "8iXgsbHW2g2G"
      },
      "execution_count": null,
      "outputs": []
    },
    {
      "cell_type": "code",
      "source": [
        "plt.figure(figsize=(12, 6))\n",
        "\n",
        "plt.subplot(1, 2, 1)\n",
        "sns.histplot(df[\"GDP\"], bins = 30, kde = True)\n",
        "plt.title(\"original GDP distribution\")\n",
        "\n",
        "plt.subplot(1, 2, 2)\n",
        "sns.histplot(df[\"GDP_log\"], bins = 30, kde = True)\n",
        "plt.title(\"log-transformed GDP distribution\")\n",
        "\n",
        "plt.show()"
      ],
      "metadata": {
        "id": "8VYb8Ge-2j5q"
      },
      "execution_count": null,
      "outputs": []
    },
    {
      "cell_type": "code",
      "source": [
        "plt.figure(figsize=(8, 5))\n",
        "sns.boxplot(x=df[\"GDP_log\"])\n",
        "plt.title(\"Boxplot of Log-Transformed GDP\")\n",
        "plt.show()"
      ],
      "metadata": {
        "id": "usiWJHHQ3yW2"
      },
      "execution_count": null,
      "outputs": []
    },
    {
      "cell_type": "code",
      "source": [
        "plt.figure(figsize= (12, 6))\n",
        "sns.violinplot(x = df['Infant mortality'])\n",
        "plt.plot()"
      ],
      "metadata": {
        "id": "oOYxcDVk4Ik6"
      },
      "execution_count": null,
      "outputs": []
    },
    {
      "cell_type": "code",
      "source": [
        "df[\"log_im\"] = np.log1p(df['Infant mortality'])\n",
        "\n",
        "plt.figure(figsize = (12, 6))\n",
        "sns.violinplot(x = df['log_im'])\n",
        "plt.plot()"
      ],
      "metadata": {
        "id": "P3sSiT1D4f9N"
      },
      "execution_count": null,
      "outputs": []
    },
    {
      "cell_type": "code",
      "source": [
        "lower = df['Infant mortality'].quantile(0.25)\n",
        "upper = df['Infant mortality'].quantile(0.75)\n",
        "iqr = upper - lower\n",
        "\n",
        "df = df[(df['Infant mortality'] >= (lower - 1.5 * iqr)) & (df['Infant mortality'] <= (upper + 1.5 * iqr))]"
      ],
      "metadata": {
        "id": "xx7UDuyZBgsc"
      },
      "execution_count": null,
      "outputs": []
    },
    {
      "cell_type": "code",
      "source": [
        "plt.figure(figsize = (12, 6))\n",
        "sns.violinplot(x = df['log_im'])\n",
        "plt.plot()"
      ],
      "metadata": {
        "id": "Zwt7xAqWAUJh"
      },
      "execution_count": null,
      "outputs": []
    },
    {
      "cell_type": "code",
      "source": [
        "plt.figure(figsize=(12, 6))\n",
        "\n",
        "plt.subplot(1, 2, 1)\n",
        "sns.histplot(df['Infant mortality'], bins = 30, kde = True)\n",
        "plt.title(\"original Infant mortality distribution\")\n",
        "\n",
        "plt.subplot(1, 2, 2)\n",
        "sns.histplot(df[\"log_im\"], bins = 30, kde = True)\n",
        "plt.title(\"log-transformed infant mortality distribution\")\n",
        "\n",
        "plt.show()"
      ],
      "metadata": {
        "id": "X_vKxpitAdZ8"
      },
      "execution_count": null,
      "outputs": []
    },
    {
      "cell_type": "code",
      "source": [
        "plt.figure(figsize = (16, 8))\n",
        "sns.histplot(x = np.log1p(df['Population']))\n",
        "plt.show()"
      ],
      "metadata": {
        "id": "TVh1m7jHCuTT"
      },
      "execution_count": null,
      "outputs": []
    },
    {
      "cell_type": "code",
      "source": [
        "df.columns"
      ],
      "metadata": {
        "id": "PGMnpBZMDRwP"
      },
      "execution_count": null,
      "outputs": []
    },
    {
      "cell_type": "code",
      "source": [],
      "metadata": {
        "id": "vc5J3SstESVu"
      },
      "execution_count": null,
      "outputs": []
    },
    {
      "cell_type": "code",
      "source": [
        "import plotly.express as px\n",
        "\n",
        "fig = px.scatter_geo(df,\n",
        "                     lat=\"Latitude\", lon=\"Longitude\",  # Use your actual column names\n",
        "                     size=\"Population\",  # Bubble size based on population\n",
        "                     color=\"GDP\",  # Color based on GDP per capita\n",
        "                     hover_name=\"Country\",\n",
        "                     projection=\"natural earth\",  # Map projection type\n",
        "                     title=\"Countries by GDP per Capita\")\n",
        "\n",
        "fig.show()"
      ],
      "metadata": {
        "id": "-646u87RDwpc"
      },
      "execution_count": null,
      "outputs": []
    },
    {
      "cell_type": "code",
      "source": [],
      "metadata": {
        "id": "9BUXs7nPIga0"
      },
      "execution_count": null,
      "outputs": []
    }
  ]
}